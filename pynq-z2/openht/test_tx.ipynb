{
 "cells": [
  {
   "cell_type": "markdown",
   "id": "bd0a9ced",
   "metadata": {},
   "source": [
    "# OpenHT Transmit test\n",
    "\n",
    "## Initialization"
   ]
  },
  {
   "cell_type": "code",
   "execution_count": 1,
   "id": "dfd43c95",
   "metadata": {},
   "outputs": [
    {
     "data": {
      "application/javascript": [
       "\n",
       "try {\n",
       "require(['notebook/js/codecell'], function(codecell) {\n",
       "  codecell.CodeCell.options_default.highlight_modes[\n",
       "      'magic_text/x-csrc'] = {'reg':[/^%%microblaze/]};\n",
       "  Jupyter.notebook.events.one('kernel_ready.Kernel', function(){\n",
       "      Jupyter.notebook.get_cells().map(function(cell){\n",
       "          if (cell.cell_type == 'code'){ cell.auto_highlight(); } }) ;\n",
       "  });\n",
       "});\n",
       "} catch (e) {};\n"
      ]
     },
     "metadata": {},
     "output_type": "display_data"
    },
    {
     "data": {
      "application/javascript": [
       "\n",
       "try {\n",
       "require(['notebook/js/codecell'], function(codecell) {\n",
       "  codecell.CodeCell.options_default.highlight_modes[\n",
       "      'magic_text/x-csrc'] = {'reg':[/^%%pybind11/]};\n",
       "  Jupyter.notebook.events.one('kernel_ready.Kernel', function(){\n",
       "      Jupyter.notebook.get_cells().map(function(cell){\n",
       "          if (cell.cell_type == 'code'){ cell.auto_highlight(); } }) ;\n",
       "  });\n",
       "});\n",
       "} catch (e) {};\n"
      ]
     },
     "metadata": {},
     "output_type": "display_data"
    },
    {
     "name": "stdout",
     "output_type": "stream",
     "text": [
      "OpenHT successfully initialized\n",
      "axi_gpio_0\n",
      "openht_wrapper_0\n",
      "rx_driver/rx_fifo2apb_0\n",
      "tx_driver/tx_fifo2apb_0\n",
      "cpu0\n"
     ]
    }
   ],
   "source": [
    "from openht import OpenHT\n",
    "\n",
    "oht = OpenHT()\n",
    "\n",
    "for item in oht.ol.ip_dict:\n",
    "    print(item)\n",
    "\n",
    "def addr(ip, offset):\n",
    "    return (ip << 13) + offset*2"
   ]
  },
  {
   "cell_type": "markdown",
   "id": "92e435a8",
   "metadata": {},
   "source": [
    "## OpenHT configuration\n",
    "Change setup_configuration function pointer to the correct setup routine"
   ]
  },
  {
   "cell_type": "code",
   "execution_count": 2,
   "id": "0c79e57b",
   "metadata": {},
   "outputs": [],
   "source": [
    "def configure_tx_fm():\n",
    "    pass\n",
    "\n",
    "configure_fpga = configure_tx_fm"
   ]
  },
  {
   "cell_type": "markdown",
   "id": "5ab73361",
   "metadata": {},
   "source": [
    "## GnuRadio UDP source/sink\n",
    "Working at ports 10000 for input / 10001 for output"
   ]
  },
  {
   "cell_type": "code",
   "execution_count": null,
   "id": "7dc76ed0",
   "metadata": {
    "scrolled": false
   },
   "outputs": [],
   "source": [
    "from gr_src_sink import GR\n",
    "\n",
    "gr = GR()\n",
    "\n",
    "def get_data_from_gr():\n",
    "    modulated_iq = []\n",
    "\n",
    "    while True:\n",
    "        # Get packet from GnuRadio\n",
    "        tx_buffer = gr.get_in_buffer()\n",
    "        tx_fixed = gr.convert_f2fixed(tx_buffer)\n",
    "        \n",
    "        buffer_idx = 0\n",
    "        buffer_len = len(tx_fixed)\n",
    "        \n",
    "        while buffer_idx < buffer_len:\n",
    "            # Check for FIFOs occupancy\n",
    "            tx_out_count = oht.tx.read(0)\n",
    "            tx_in_count = oht.openht.read(addr(0, 10)) & 0xFF\n",
    "            \n",
    "            # If there is enough room left in out and limited amount in input queue, send new sample\n",
    "            if tx_out_count < 350 and tx_in_count <= 4:\n",
    "                oht.openht.write(addr(0, 8), int(tx_fixed[buffer_idx]))\n",
    "                buffer_idx += 1\n",
    "        \n",
    "            tx_out_count = oht.tx.read(0)\n",
    "            \n",
    "            # Get the modulated IQ\n",
    "            for rx_idx in range(tx_out_count):\n",
    "                tx_data = oht.tx.read(4)\n",
    "                tx_iq = gr.convert_cplx2f(tx_data)\n",
    "                if len(modulated_iq) < 350:\n",
    "                    [modulated_iq.append(item) for item in tx_iq]\n",
    "                else:\n",
    "                    modulated_iq_f = gr.convert_fixed2f(modulated_iq)\n",
    "                    gr.send_out_buffer(modulated_iq_f)\n",
    "                    modulated_iq.clear()\n",
    "        else:\n",
    "            buffer_idx = 0\n",
    "\n",
    "configure_fpga()\n",
    "get_data_from_gr()"
   ]
  },
  {
   "cell_type": "code",
   "execution_count": null,
   "id": "af933a23",
   "metadata": {},
   "outputs": [],
   "source": []
  }
 ],
 "metadata": {
  "kernelspec": {
   "display_name": "Python 3 (ipykernel)",
   "language": "python",
   "name": "python3"
  },
  "language_info": {
   "codemirror_mode": {
    "name": "ipython",
    "version": 3
   },
   "file_extension": ".py",
   "mimetype": "text/x-python",
   "name": "python",
   "nbconvert_exporter": "python",
   "pygments_lexer": "ipython3",
   "version": "3.10.4"
  }
 },
 "nbformat": 4,
 "nbformat_minor": 5
}
